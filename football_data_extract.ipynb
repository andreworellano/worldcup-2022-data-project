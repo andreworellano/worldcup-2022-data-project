{
 "cells": [
  {
   "cell_type": "code",
   "execution_count": 2,
   "id": "87f80f1d",
   "metadata": {
    "scrolled": true
   },
   "outputs": [],
   "source": [
    "# function to upload json file to S3 for staging\n",
    "from s3 import upload_file\n",
    "import requests as r\n",
    "import json\n",
    "from config import X_RAPIDAPI_KEY"
   ]
  },
  {
   "cell_type": "markdown",
   "id": "a858ccb9-2834-472f-a112-f9a7972d0c29",
   "metadata": {},
   "source": [
    "### World Cup Team Extract"
   ]
  },
  {
   "cell_type": "code",
   "execution_count": 5,
   "id": "d834a412",
   "metadata": {
    "scrolled": true
   },
   "outputs": [
    {
     "data": {
      "text/plain": [
       "True"
      ]
     },
     "execution_count": 5,
     "metadata": {},
     "output_type": "execute_result"
    }
   ],
   "source": [
    "url_teams = \"https://api-football-v1.p.rapidapi.com/v3/teams\"\n",
    "\n",
    "# world cup season 2022 \n",
    "params = {\n",
    "    \"league\":\"1\",\n",
    "    \"season\":\"2022\"\n",
    "}\n",
    "\n",
    "headers = {\n",
    "    \"X-RapidAPI-Key\": X_RAPIDAPI_KEY,\n",
    "    \"X-RapidAPI-Host\": \"api-football-v1.p.rapidapi.com\"\n",
    "}\n",
    "\n",
    "data = r.request(\"GET\", url_teams, headers=headers, params=params).json()\n",
    "\n",
    "upload_file(data, 'worldcup-project-2022-bucket', 'worldcup_teams_2022.json')"
   ]
  },
  {
   "cell_type": "markdown",
   "id": "94a32172-d96b-4450-9a42-2185f1970343",
   "metadata": {},
   "source": [
    "### Players in Each World Cup Squad Extract"
   ]
  },
  {
   "cell_type": "code",
   "execution_count": 2,
   "id": "97987f55-9a97-401e-a175-8dd01f87d52d",
   "metadata": {},
   "outputs": [],
   "source": [
    "# need to get an array of each world cup team id\n",
    "\n",
    "    #  boto 3\n",
    "\n",
    "import boto3"
   ]
  },
  {
   "cell_type": "code",
   "execution_count": 19,
   "id": "bf7fc0b9-3533-4085-8d0e-9fd8fb5c9aab",
   "metadata": {},
   "outputs": [],
   "source": [
    "# establishes what AWS resource is being used = s3\n",
    "s3 = boto3.resource('s3')\n",
    "# Object class allows you to interact with the file or key in S3\n",
    "obj = s3.Object('worldcup-project-2022-bucket', 'worldcup_teams_2022.json')\n",
    "# get() retrieves S3 object meta data, but you can traverse into the ['Body'], which\n",
    "# returns the StreamingBody()\n",
    "data = obj.get()['Body'].read()"
   ]
  },
  {
   "cell_type": "code",
   "execution_count": 20,
   "id": "e8665c92-5f80-4ad8-8db5-9490dda9db68",
   "metadata": {},
   "outputs": [],
   "source": [
    "import json\n",
    "# data came in as binary, json.loads turns into a dict type\n",
    "data_json = json.loads(data)"
   ]
  },
  {
   "cell_type": "code",
   "execution_count": 18,
   "id": "095c501f-6c94-4668-9345-d7d35c9f39b6",
   "metadata": {},
   "outputs": [
    {
     "name": "stdout",
     "output_type": "stream",
     "text": [
      "[1, 2, 3, 6, 7, 9, 10, 12, 13, 14, 15, 16, 17, 21, 22, 23, 24, 25, 26, 27, 28, 31, 767, 1118, 1504, 1530, 1569, 2382, 2384, 5529]\n",
      "['Belgium', 'France', 'Croatia', 'Brazil', 'Uruguay', 'Spain', 'England', 'Japan', 'Senegal', 'Serbia', 'Switzerland', 'Mexico', 'South Korea', 'Denmark', 'Iran', 'Saudi Arabia', 'Poland', 'Germany', 'Argentina', 'Portugal', 'Tunisia', 'Morocco', 'Wales', 'Netherlands', 'Ghana', 'Cameroon', 'Qatar', 'Ecuador', 'USA', 'Canada']\n"
     ]
    }
   ],
   "source": [
    "team_ids = []\n",
    "team_names = []\n",
    "\n",
    "for x in data_json['response']:\n",
    "    team_ids.append(x['team']['id'])\n",
    "\n",
    "for y in data_json['response']:\n",
    "    team_names.append(y['team']['name'])\n",
    "\n",
    "print(team_ids)  \n",
    "print(team_names)\n",
    "# 2 missing teams: Australia, Costa Rica"
   ]
  },
  {
   "cell_type": "code",
   "execution_count": null,
   "id": "ee165341-4ad3-41c8-b08e-2fca6af556cc",
   "metadata": {},
   "outputs": [],
   "source": []
  }
 ],
 "metadata": {
  "kernelspec": {
   "display_name": "Python 3 (ipykernel)",
   "language": "python",
   "name": "python3"
  },
  "language_info": {
   "codemirror_mode": {
    "name": "ipython",
    "version": 3
   },
   "file_extension": ".py",
   "mimetype": "text/x-python",
   "name": "python",
   "nbconvert_exporter": "python",
   "pygments_lexer": "ipython3",
   "version": "3.10.2"
  }
 },
 "nbformat": 4,
 "nbformat_minor": 5
}
