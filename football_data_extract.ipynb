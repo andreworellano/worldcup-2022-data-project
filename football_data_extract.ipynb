{
 "cells": [
  {
   "cell_type": "code",
   "execution_count": 2,
   "id": "87f80f1d",
   "metadata": {
    "scrolled": true
   },
   "outputs": [],
   "source": [
    "# function to upload json file to S3 for staging\n",
    "from s3 import upload_file\n",
    "import requests as r\n",
    "import json\n",
    "from config import X_RAPIDAPI_KEY"
   ]
  },
  {
   "cell_type": "code",
   "execution_count": 5,
   "id": "d834a412",
   "metadata": {
    "scrolled": true
   },
   "outputs": [
    {
     "data": {
      "text/plain": [
       "True"
      ]
     },
     "execution_count": 5,
     "metadata": {},
     "output_type": "execute_result"
    }
   ],
   "source": [
    "url_teams = \"https://api-football-v1.p.rapidapi.com/v3/teams\"\n",
    "\n",
    "# world cup season 2022 \n",
    "params = {\n",
    "    \"league\":\"1\",\n",
    "    \"season\":\"2022\"\n",
    "}\n",
    "\n",
    "headers = {\n",
    "    \"X-RapidAPI-Key\": X_RAPIDAPI_KEY,\n",
    "    \"X-RapidAPI-Host\": \"api-football-v1.p.rapidapi.com\"\n",
    "}\n",
    "\n",
    "data = r.request(\"GET\", url_teams, headers=headers, params=params).json()\n",
    "\n",
    "upload_file(data, 'worldcup-project-2022-bucket', 'worldcup_teams_2022.json')"
   ]
  }
 ],
 "metadata": {
  "kernelspec": {
   "display_name": "Python 3 (ipykernel)",
   "language": "python",
   "name": "python3"
  },
  "language_info": {
   "codemirror_mode": {
    "name": "ipython",
    "version": 3
   },
   "file_extension": ".py",
   "mimetype": "text/x-python",
   "name": "python",
   "nbconvert_exporter": "python",
   "pygments_lexer": "ipython3",
   "version": "3.10.2"
  }
 },
 "nbformat": 4,
 "nbformat_minor": 5
}
